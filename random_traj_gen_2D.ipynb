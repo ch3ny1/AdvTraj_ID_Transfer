{
 "cells": [
  {
   "cell_type": "code",
   "execution_count": null,
   "metadata": {},
   "outputs": [],
   "source": [
    "import tensorflow as tf\n",
    "import numpy as np\n",
    "import matplotlib.pyplot as plt\n",
    "from ID_Transfer.IDTransfer_Utils_Utils import *\n",
    "from tqdm import tqdm"
   ]
  },
  {
   "cell_type": "code",
   "execution_count": 2,
   "metadata": {},
   "outputs": [],
   "source": [
    "move_target = generate_move(start=(160, 360), end=(800,360), time=150)"
   ]
  },
  {
   "cell_type": "code",
   "execution_count": null,
   "metadata": {},
   "outputs": [],
   "source": [
    "adv_traj = generate_traj(move_target)"
   ]
  },
  {
   "cell_type": "code",
   "execution_count": null,
   "metadata": {},
   "outputs": [],
   "source": [
    "count = 0\n",
    "output = []\n",
    "while count <= 100:\n",
    "    adv_traj = generate_traj(move_target, attacker_spawn_range=(0,480, 0, 360))\n",
    "    if adv_traj is None:\n",
    "        continue\n",
    "    else:\n",
    "        adv_x, adv_y = [], []\n",
    "        for center in adv_traj:\n",
    "            adv_x.append(center[0,0].numpy())\n",
    "            adv_y.append(center[1,0].numpy())\n",
    "        output.append([adv_x, adv_y])\n",
    "    count += 1\n",
    "\n",
    "output_np = np.array(output)\n",
    "np.save('left_traj.npy', output_np)"
   ]
  },
  {
   "cell_type": "code",
   "execution_count": null,
   "metadata": {},
   "outputs": [],
   "source": [
    "count = 0\n",
    "output_r = []\n",
    "while count <= 100:\n",
    "    adv_traj = generate_traj(move_target, attacker_spawn_range=(480,960, 0, 360))\n",
    "    if adv_traj is None:\n",
    "        continue\n",
    "    else:\n",
    "        adv_x, adv_y = [], []\n",
    "        for center in adv_traj:\n",
    "            adv_x.append(center[0,0].numpy())\n",
    "            adv_y.append(center[1,0].numpy())\n",
    "        output_r.append([adv_x, adv_y])\n",
    "    count += 1\n",
    "    print(count)\n",
    "\n",
    "output_r_np = np.array(output_r)\n",
    "np.save('right_traj.npy', output_r_np)"
   ]
  }
 ],
 "metadata": {
  "kernelspec": {
   "display_name": "tf2",
   "language": "python",
   "name": "python3"
  },
  "language_info": {
   "codemirror_mode": {
    "name": "ipython",
    "version": 3
   },
   "file_extension": ".py",
   "mimetype": "text/x-python",
   "name": "python",
   "nbconvert_exporter": "python",
   "pygments_lexer": "ipython3",
   "version": "3.9.16"
  }
 },
 "nbformat": 4,
 "nbformat_minor": 2
}
