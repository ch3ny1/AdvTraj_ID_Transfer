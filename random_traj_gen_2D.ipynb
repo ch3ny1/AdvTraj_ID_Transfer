{
 "cells": [
  {
   "cell_type": "code",
   "execution_count": null,
   "metadata": {},
   "outputs": [],
   "source": [
    "import tensorflow as tf\n",
    "import numpy as np\n",
    "import matplotlib.pyplot as plt\n",
    "from ID_Transfer.IDTransfer_Utils import *\n",
    "from tqdm import tqdm\n",
    "from utils.vis_util import *"
   ]
  },
  {
   "cell_type": "code",
   "execution_count": 2,
   "metadata": {},
   "outputs": [],
   "source": [
    "move_target = generate_move(start=(160, 360), end=(800,360), time=150)"
   ]
  },
  {
   "cell_type": "code",
   "execution_count": null,
   "metadata": {},
   "outputs": [],
   "source": [
    "adv_traj = generate_traj(move_target)"
   ]
  },
  {
   "cell_type": "code",
   "execution_count": null,
   "metadata": {},
   "outputs": [],
   "source": [
    "count = 0\n",
    "output = []\n",
    "while count <= 100:\n",
    "    adv_traj = generate_traj(move_target, attacker_spawn_range=(0,480, 0, 360))\n",
    "    if adv_traj is None:\n",
    "        continue\n",
    "    else:\n",
    "        adv_x, adv_y = [], []\n",
    "        for center in adv_traj:\n",
    "            adv_x.append(center[0,0].numpy())\n",
    "            adv_y.append(center[1,0].numpy())\n",
    "        output.append([adv_x, adv_y])\n",
    "    count += 1\n",
    "\n",
    "output_np = np.array(output)\n",
    "np.save('left_traj.npy', output_np)"
   ]
  },
  {
   "cell_type": "code",
   "execution_count": null,
   "metadata": {},
   "outputs": [],
   "source": [
    "count = 0\n",
    "output_r = []\n",
    "while count <= 100:\n",
    "    adv_traj = generate_traj(move_target, attacker_spawn_range=(480,960, 0, 360))\n",
    "    if adv_traj is None:\n",
    "        continue\n",
    "    else:\n",
    "        adv_x, adv_y = [], []\n",
    "        for center in adv_traj:\n",
    "            adv_x.append(center[0,0].numpy())\n",
    "            adv_y.append(center[1,0].numpy())\n",
    "        output_r.append([adv_x, adv_y])\n",
    "    count += 1\n",
    "    print(count)\n",
    "\n",
    "output_r_np = np.array(output_r)\n",
    "np.save('right_traj.npy', output_r_np)"
   ]
  },
  {
   "cell_type": "code",
   "execution_count": null,
   "metadata": {},
   "outputs": [],
   "source": [
    "left_traj = np.load('left_traj.npy')\n",
    "right_traj = np.load('right_traj.npy')\n",
    "traj = np.concatenate([left_traj, right_traj], axis=0)"
   ]
  },
  {
   "cell_type": "markdown",
   "metadata": {},
   "source": [
    "# Plot the adversarial trajectories"
   ]
  },
  {
   "cell_type": "code",
   "execution_count": null,
   "metadata": {},
   "outputs": [],
   "source": [
    "np.random.seed(2022)\n",
    "index = np.random.choice(101, 40, False)\n",
    "fig, ax = plt.subplots()\n",
    "for i in index:\n",
    "    adv_x = moving_average(left_traj[i,0,:], 2)\n",
    "    adv_y = moving_average(left_traj[i,1,:], 2)\n",
    "    plt.plot(adv_x, adv_y, alpha=0.5, color='red')\n",
    "    arrow(adv_x, adv_y, ax, 30)\n",
    "\n",
    "for i in index:\n",
    "    adv_x = moving_average(right_traj[i,0,:], 2)\n",
    "    adv_y = moving_average(right_traj[i,1,:], 2)\n",
    "    plt.plot(adv_x, adv_y, alpha=0.5, color='red')\n",
    "    arrow(adv_x, adv_y, ax, 30)\n",
    "\n",
    "#plt.plot(target_move[:,0], target_move[:,1], linestyle='-', lw=3.0, color='black', alpha=0.3)\n",
    "plt.arrow(160,360,640,0, width=5, color='blue', zorder=0, alpha=0.5)\n",
    "plt.gca().invert_yaxis()\n",
    "plt.xlim(0,960)\n",
    "plt.xlabel('X-Coordinate')\n",
    "plt.ylabel('Y-Coordinate')\n",
    "#ax.figure(figsize=(9.60, 5.40))\n",
    "#set_size(9.60,5.40)\n",
    "import matplotlib.patches as mpatches\n",
    "red_patch = mpatches.Patch(color='red', label='Adversarial Trajectories')\n",
    "blue_patch = mpatches.Patch(color='blue', label='Target Trajectory')\n",
    "plt.legend(handles=[red_patch, blue_patch], loc='upper left')"
   ]
  },
  {
   "cell_type": "markdown",
   "metadata": {},
   "source": [
    "# Plot the pattern of trajectories"
   ]
  },
  {
   "cell_type": "code",
   "execution_count": null,
   "metadata": {},
   "outputs": [],
   "source": [
    "speeds = calculate_speed(traj)\n",
    "distance = calculate_distance(traj, target_move)\n",
    "velocity = calculate_velocity(traj)"
   ]
  },
  {
   "cell_type": "code",
   "execution_count": null,
   "metadata": {},
   "outputs": [],
   "source": [
    "a = speeds[150]\n",
    "b = distance[150]\n",
    "window_size = 2\n",
    "\n",
    "n, t = 2, 149\n",
    "\n",
    "smoothed_x_speed = moving_average(velocity[1, :, 0], window_size)\n",
    "smoothed_y_speed = moving_average(velocity[1, :, 1], window_size)\n",
    "smoothed_distance = moving_average(distance[1], window_size)\n",
    "# Plotting\n",
    "fig = plt.figure(figsize=(10, 6))\n",
    "\n",
    "# First y-axis (left) for speed\n",
    "ax1 = plt.gca()\n",
    "#for i, smoothed_speed in enumerate(smoothed_x_speed):\n",
    "#    adjusted_time_steps = range(window_size-1, t)\n",
    "#    if i==0:\n",
    "#        ax1.plot(adjusted_time_steps, smoothed_speed, label='Attacker Speed', color='red')\n",
    "#    else:\n",
    "#        ax1.plot(adjusted_time_steps, smoothed_speed, label='Target Speed')\n",
    "adjusted_time_steps = range(0, t-window_size+1)\n",
    "ax1.plot(adjusted_time_steps, smoothed_x_speed, label='Attacker Speed (x)', color='red')\n",
    "ax1.plot(adjusted_time_steps, smoothed_y_speed, label='Attacker Speed (y)', color='green')\n",
    "ax1.axline((0,4.26), (150, 4.26), label='Target Speed (x)', color='blue')\n",
    "\n",
    "ax1.set_xlabel('Time Steps')\n",
    "ax1.set_ylabel('Speed')\n",
    "ax1.set_ylim(-6.5, 6.5)\n",
    "ax1.tick_params(axis='y')\n",
    "ax1.legend(loc='lower right')\n",
    "\n",
    "\n",
    "# Second y-axis (right) for distance\n",
    "ax2 = ax1.twinx()\n",
    "ax2.plot(adjusted_time_steps, smoothed_distance, label='Distance', color='orange', linestyle='--')\n",
    "#ax2.axline((40,0), (40, 500), label='ID-Transfer', color='black', linestyle='dotted')\n",
    "ax2.set_ylabel('Distance from Attacker to Target')\n",
    "ax2.tick_params(axis='y')\n",
    "ax2.legend(loc='upper right')\n",
    "\n",
    "\n",
    "\n",
    "plt.title('Speed and Distance (from Attacker to Target) vs Time')\n",
    "\n",
    "import tikzplotlib\n",
    "\n",
    "#tikzplotlib_fix_ncols(fig)\n",
    "tikzplotlib.save(\"pattern1.tex\")\n",
    "plt.show()"
   ]
  }
 ],
 "metadata": {
  "kernelspec": {
   "display_name": "tf2",
   "language": "python",
   "name": "python3"
  },
  "language_info": {
   "codemirror_mode": {
    "name": "ipython",
    "version": 3
   },
   "file_extension": ".py",
   "mimetype": "text/x-python",
   "name": "python",
   "nbconvert_exporter": "python",
   "pygments_lexer": "ipython3",
   "version": "3.9.16"
  }
 },
 "nbformat": 4,
 "nbformat_minor": 2
}
