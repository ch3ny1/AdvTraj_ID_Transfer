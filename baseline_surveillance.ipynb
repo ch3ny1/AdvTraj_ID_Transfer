{
 "cells": [
  {
   "cell_type": "code",
   "execution_count": 1,
   "metadata": {},
   "outputs": [],
   "source": [
    "from attack.attack_manager import *\n",
    "from utils.eval_util import SettingsRandomizer\n",
    "from tqdm import tqdm\n",
    "#physical_devices = tf.config.list_physical_devices('GPU') \n",
    "#for device in physical_devices:\n",
    "#    tf.config.experimental.set_memory_growth(device, True)"
   ]
  },
  {
   "cell_type": "markdown",
   "metadata": {},
   "source": [
    "Camera transform: Transform(Location(x=211.750214, y=243.868240, z=10.152740), Rotation(pitch=-24.631866, yaw=38.598469, roll=0.000048))\n",
    "\n",
    "Victim spawn range: \n",
    "Transform(Location(x=220.935547, y=254.084549, z=1.008240), Rotation(pitch=-1.252404, yaw=2.789139, roll=0.000054)),\n",
    "Transform(Location(x=235.565430, y=262.355255, z=1.116518), Rotation(pitch=-0.331360, yaw=2.467006, roll=0.000054))\n",
    "\n",
    "Attacker spawn range:\n",
    "Transform(Location(x=213.878998, y=251.487335, z=0.606250), Rotation(pitch=4.431474, yaw=6.992460, roll=0.000093))\n",
    "Transform(Location(x=223.495819, y=264.319550, z=0.867175), Rotation(pitch=1.015430, yaw=-1.976868, roll=0.000093))"
   ]
  },
  {
   "cell_type": "code",
   "execution_count": 2,
   "metadata": {},
   "outputs": [],
   "source": [
    "curr_dir = os.getcwd()\n",
    "settings = load_yaml(os.path.join(curr_dir, 'configs', 'config.yaml'))\n"
   ]
  },
  {
   "cell_type": "markdown",
   "metadata": {},
   "source": [
    "Success settings:\n",
    "settings['ego_vehicle']['init_speed'] = [1.5,0.,0.]\n",
    "settings['ego_vehicle']['spawn_transform'] = [87.5, 130., 0.5, 0., 90., 0.]\n",
    "settings['victim']['spawn_transform'] = [85.4, 159.6, 0.777042, 0., -90., 0.]\n",
    "settings['attacker']['spawn_transform'] = [83.33, 172.57, 0.777042, 0., -90., 0.]\n",
    "settings['victim']['init_speed'] = [0.,-1.,0., 1.1]\n",
    "settings['simulation']['lr'] = 0.1\n",
    "settings['simulation']['iter'] = 20"
   ]
  },
  {
   "cell_type": "code",
   "execution_count": 3,
   "metadata": {},
   "outputs": [],
   "source": [
    "settings['ego_vehicle']['init_speed'] = [1.5,0.,0.]\n",
    "settings['ego_vehicle']['spawn_transform'] = [87.5, 130., 0.5, 0., 90., 0.]\n",
    "settings['victim']['spawn_transform'] = [85.4, 159.6, 0.777042, 0., 0., 0.]\n",
    "settings['attacker']['spawn_transform'] = [83.33, 172.57, 0.777042, 0., 0., 0.]\n",
    "settings['victim']['init_speed'] = [1.,0.,0., 1.1]\n",
    "settings['simulation']['lr'] = 0.1\n",
    "settings['simulation']['iter'] = 20\n",
    "settings['world']['map'] = 'Town01'"
   ]
  },
  {
   "cell_type": "code",
   "execution_count": 4,
   "metadata": {},
   "outputs": [],
   "source": [
    "settings_randomizer = SettingsRandomizer(settings)\n",
    "settings_randomizer.attacker_spawn_range = [215, 238., 249., 264.]\n",
    "settings_randomizer.victim_spawn_range = [220., 235., 254., 262.]\n",
    "settings_randomizer.attacker_spawn_number = 10\n",
    "settings_randomizer.victim_spawn_number = 100\n",
    "settings_list = settings_randomizer.generate_baseline_surveillance()"
   ]
  },
  {
   "cell_type": "code",
   "execution_count": 5,
   "metadata": {},
   "outputs": [],
   "source": [
    "attack_manager = AttackManager(settings)"
   ]
  },
  {
   "cell_type": "code",
   "execution_count": 6,
   "metadata": {},
   "outputs": [
    {
     "name": "stderr",
     "output_type": "stream",
     "text": [
      "  0%|          | 0/12 [00:00<?, ?it/s]"
     ]
    },
    {
     "name": "stdout",
     "output_type": "stream",
     "text": [
      "Saving images\n"
     ]
    },
    {
     "name": "stderr",
     "output_type": "stream",
     "text": [
      "  8%|▊         | 1/12 [00:10<01:52, 10.19s/it]"
     ]
    },
    {
     "name": "stdout",
     "output_type": "stream",
     "text": [
      "Result: 0 / 1\n",
      "Saving images\n"
     ]
    },
    {
     "name": "stderr",
     "output_type": "stream",
     "text": [
      " 17%|█▋        | 2/12 [00:19<01:34,  9.48s/it]"
     ]
    },
    {
     "name": "stdout",
     "output_type": "stream",
     "text": [
      "Result: 0 / 2\n",
      "Saving images\n"
     ]
    },
    {
     "name": "stderr",
     "output_type": "stream",
     "text": [
      " 25%|██▌       | 3/12 [00:28<01:22,  9.22s/it]"
     ]
    },
    {
     "name": "stdout",
     "output_type": "stream",
     "text": [
      "Result: 0 / 3\n",
      "Saving images\n"
     ]
    },
    {
     "name": "stderr",
     "output_type": "stream",
     "text": [
      " 33%|███▎      | 4/12 [00:37<01:13,  9.18s/it]"
     ]
    },
    {
     "name": "stdout",
     "output_type": "stream",
     "text": [
      "Result: 0 / 4\n",
      "Saving images\n"
     ]
    },
    {
     "name": "stderr",
     "output_type": "stream",
     "text": [
      " 42%|████▏     | 5/12 [00:46<01:04,  9.23s/it]"
     ]
    },
    {
     "name": "stdout",
     "output_type": "stream",
     "text": [
      "Result: 0 / 5\n",
      "Saving images\n"
     ]
    },
    {
     "name": "stderr",
     "output_type": "stream",
     "text": [
      " 50%|█████     | 6/12 [00:55<00:55,  9.31s/it]"
     ]
    },
    {
     "name": "stdout",
     "output_type": "stream",
     "text": [
      "Result: 0 / 6\n",
      "Saving images\n"
     ]
    },
    {
     "name": "stderr",
     "output_type": "stream",
     "text": [
      " 58%|█████▊    | 7/12 [01:05<00:47,  9.45s/it]"
     ]
    },
    {
     "name": "stdout",
     "output_type": "stream",
     "text": [
      "Result: 0 / 7\n",
      "Saving images\n"
     ]
    },
    {
     "name": "stderr",
     "output_type": "stream",
     "text": [
      " 67%|██████▋   | 8/12 [01:15<00:38,  9.59s/it]"
     ]
    },
    {
     "name": "stdout",
     "output_type": "stream",
     "text": [
      "Result: 0 / 8\n",
      "Saving images\n"
     ]
    },
    {
     "name": "stderr",
     "output_type": "stream",
     "text": [
      " 75%|███████▌  | 9/12 [01:25<00:29,  9.80s/it]"
     ]
    },
    {
     "name": "stdout",
     "output_type": "stream",
     "text": [
      "Result: 0 / 9\n",
      "Saving images\n"
     ]
    },
    {
     "name": "stderr",
     "output_type": "stream",
     "text": [
      " 83%|████████▎ | 10/12 [01:35<00:19,  9.88s/it]"
     ]
    },
    {
     "name": "stdout",
     "output_type": "stream",
     "text": [
      "Result: 0 / 10\n",
      "Saving images\n"
     ]
    },
    {
     "name": "stderr",
     "output_type": "stream",
     "text": [
      " 92%|█████████▏| 11/12 [01:46<00:10, 10.01s/it]"
     ]
    },
    {
     "name": "stdout",
     "output_type": "stream",
     "text": [
      "Result: 0 / 11\n",
      "Saving images\n"
     ]
    },
    {
     "name": "stderr",
     "output_type": "stream",
     "text": [
      "100%|██████████| 12/12 [01:56<00:00,  9.73s/it]"
     ]
    },
    {
     "name": "stdout",
     "output_type": "stream",
     "text": [
      "Result: 0 / 12\n",
      "ASR: 0.0\n"
     ]
    },
    {
     "name": "stderr",
     "output_type": "stream",
     "text": [
      "\n"
     ]
    },
    {
     "ename": "",
     "evalue": "",
     "output_type": "error",
     "traceback": [
      "\u001b[1;31mThe Kernel crashed while executing code in the the current cell or a previous cell. Please review the code in the cell(s) to identify a possible cause of the failure. Click <a href='https://aka.ms/vscodeJupyterKernelCrash'>here</a> for more info. View Jupyter <a href='command:jupyter.viewOutput'>log</a> for further details."
     ]
    }
   ],
   "source": [
    "attack_manager.attacker_speed_limit = 3\n",
    "attack_manager.attacker_movement_limit = 0.3\n",
    "attack_manager.lr = 1\n",
    "attack_manager.iter = 20\n",
    "#attack_manager.threshold = 0.3\n",
    "#bboxes = attack_manager.run_attack(settings)\n",
    "num_success = 0\n",
    "num = 0\n",
    "for setting in tqdm(settings_list[88:]):\n",
    "    success = attack_manager.collect_baseline(setting, higher_view=False, save_img_bbox=True)\n",
    "    if success:\n",
    "        num_success += 1\n",
    "    num += 1\n",
    "    print(\"Result: {} / {}\".format(num_success, num))\n",
    "print(\"ASR: {}\".format(num_success/len(settings_list)))"
   ]
  }
 ],
 "metadata": {
  "kernelspec": {
   "display_name": "tf-gpu-carla",
   "language": "python",
   "name": "python3"
  },
  "language_info": {
   "codemirror_mode": {
    "name": "ipython",
    "version": 3
   },
   "file_extension": ".py",
   "mimetype": "text/x-python",
   "name": "python",
   "nbconvert_exporter": "python",
   "pygments_lexer": "ipython3",
   "version": "3.8.17"
  }
 },
 "nbformat": 4,
 "nbformat_minor": 2
}
