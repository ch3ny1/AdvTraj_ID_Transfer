{
 "cells": [
  {
   "cell_type": "code",
   "execution_count": 1,
   "metadata": {},
   "outputs": [],
   "source": [
    "from utils.replay_util import ReplayManager\n",
    "from tqdm import tqdm\n",
    "from utils.yaml_utils import *"
   ]
  },
  {
   "cell_type": "code",
   "execution_count": 2,
   "metadata": {},
   "outputs": [],
   "source": [
    "curr_dir = os.getcwd()\n",
    "settings = load_yaml(os.path.join(curr_dir, 'configs', 'config.yaml'))\n",
    "scenario_folder = r'D:\\ID-Switch-Sim-Output\\surveillance_var_appearance\\1_1\\trajs'"
   ]
  },
  {
   "cell_type": "code",
   "execution_count": 3,
   "metadata": {},
   "outputs": [],
   "source": [
    "bp = ['0001', '0005', '0006', '0007', '0008']"
   ]
  },
  {
   "cell_type": "code",
   "execution_count": 4,
   "metadata": {},
   "outputs": [],
   "source": [
    "manager = ReplayManager(scenario_folder, settings)\n",
    "manager.output_folder = r'D:\\ID-Switch-Sim-Output\\surveillance_var_appearance'"
   ]
  },
  {
   "cell_type": "code",
   "execution_count": 5,
   "metadata": {},
   "outputs": [
    {
     "name": "stderr",
     "output_type": "stream",
     "text": [
      "25it [00:00, 399.45it/s]\n"
     ]
    }
   ],
   "source": [
    "manager.collect_new_imgs(bp)"
   ]
  },
  {
   "cell_type": "code",
   "execution_count": 6,
   "metadata": {},
   "outputs": [],
   "source": [
    "settings = load_yaml(os.path.join(curr_dir, 'configs', 'config.yaml'))\n",
    "scenario_folder = r'D:\\ID-Switch-Sim-Output\\tjunction_var_appearance\\1_1\\trajs'\n",
    "manager = ReplayManager(scenario_folder, settings)\n",
    "manager.output_folder = r'D:\\ID-Switch-Sim-Output\\tjunction_var_appearance'"
   ]
  },
  {
   "cell_type": "code",
   "execution_count": 7,
   "metadata": {},
   "outputs": [
    {
     "name": "stderr",
     "output_type": "stream",
     "text": [
      "25it [9:12:45, 1326.62s/it]\n"
     ]
    }
   ],
   "source": [
    "manager.collect_new_imgs(bp)"
   ]
  },
  {
   "cell_type": "code",
   "execution_count": 8,
   "metadata": {},
   "outputs": [],
   "source": [
    "settings = load_yaml(os.path.join(curr_dir, 'configs', 'config_roadside.yaml'))\n",
    "scenario_folder = r'D:\\ID-Switch-Sim-Output\\roadside_var_appearance\\1_1\\trajs'\n",
    "manager = ReplayManager(scenario_folder, settings)\n",
    "manager.output_folder = r'D:\\ID-Switch-Sim-Output\\roadside_var_appearance'"
   ]
  },
  {
   "cell_type": "code",
   "execution_count": 9,
   "metadata": {},
   "outputs": [
    {
     "name": "stderr",
     "output_type": "stream",
     "text": [
      "25it [11:10:10, 1608.44s/it]\n"
     ]
    }
   ],
   "source": [
    "manager.collect_new_imgs(bp)"
   ]
  }
 ],
 "metadata": {
  "kernelspec": {
   "display_name": "tf-gpu-carla",
   "language": "python",
   "name": "python3"
  },
  "language_info": {
   "codemirror_mode": {
    "name": "ipython",
    "version": 3
   },
   "file_extension": ".py",
   "mimetype": "text/x-python",
   "name": "python",
   "nbconvert_exporter": "python",
   "pygments_lexer": "ipython3",
   "version": "3.8.17"
  }
 },
 "nbformat": 4,
 "nbformat_minor": 2
}
