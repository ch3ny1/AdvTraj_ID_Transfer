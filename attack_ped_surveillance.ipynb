{
 "cells": [
  {
   "cell_type": "code",
   "execution_count": 1,
   "metadata": {},
   "outputs": [],
   "source": [
    "from attack.attack_manager import *\n",
    "from utils.eval_util import SettingsRandomizer\n",
    "from tqdm import tqdm"
   ]
  },
  {
   "cell_type": "code",
   "execution_count": 2,
   "metadata": {},
   "outputs": [],
   "source": [
    "curr_dir = os.getcwd()\n",
    "settings = load_yaml(os.path.join(curr_dir, 'configs', 'config.yaml'))\n"
   ]
  },
  {
   "cell_type": "code",
   "execution_count": 3,
   "metadata": {},
   "outputs": [],
   "source": [
    "settings_randomizer = SettingsRandomizer(settings)\n",
    "settings_randomizer.attacker_spawn_range = [213, 223., 251., 264.]\n",
    "settings_randomizer.victim_spawn_range = [220., 235., 254., 262.]\n",
    "settings_randomizer.attacker_spawn_number = 5\n",
    "settings_randomizer.victim_spawn_number = 5\n",
    "settings_list = settings_randomizer.generate_settings_surveillance(seed=2023)"
   ]
  },
  {
   "cell_type": "code",
   "execution_count": 4,
   "metadata": {},
   "outputs": [],
   "source": [
    "attack_manager = AttackManager(settings)"
   ]
  },
  {
   "cell_type": "code",
   "execution_count": null,
   "metadata": {},
   "outputs": [],
   "source": [
    "attack_manager.attacker_speed_limit = 3.5\n",
    "attack_manager.attacker_movement_limit = 0.35\n",
    "attack_manager.lr = 0.1\n",
    "attack_manager.iter = 5\n",
    "num_success = 0\n",
    "num = 0\n",
    "for setting in tqdm(settings_list):\n",
    "    success = attack_manager.run_attack_3d_surveillance(setting, higher_view=False, save_imgs_bboxes=False)\n",
    "    if success:\n",
    "        num_success += 1\n",
    "    num += 1\n",
    "    print(\"Result: {} / {}\".format(num_success, num))\n",
    "print(\"ASR: {}\".format(num_success/len(settings_list)))"
   ]
  }
 ],
 "metadata": {
  "kernelspec": {
   "display_name": "tf-gpu-carla",
   "language": "python",
   "name": "python3"
  },
  "language_info": {
   "codemirror_mode": {
    "name": "ipython",
    "version": 3
   },
   "file_extension": ".py",
   "mimetype": "text/x-python",
   "name": "python",
   "nbconvert_exporter": "python",
   "pygments_lexer": "ipython3",
   "version": "3.8.17"
  }
 },
 "nbformat": 4,
 "nbformat_minor": 2
}
